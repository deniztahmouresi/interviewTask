{
  "nbformat": 4,
  "nbformat_minor": 0,
  "metadata": {
    "colab": {
      "provenance": [],
      "authorship_tag": "ABX9TyNOqAqMxXnAgChzZ9A7oA+l",
      "include_colab_link": true
    },
    "kernelspec": {
      "name": "python3",
      "display_name": "Python 3"
    },
    "language_info": {
      "name": "python"
    }
  },
  "cells": [
    {
      "cell_type": "markdown",
      "metadata": {
        "id": "view-in-github",
        "colab_type": "text"
      },
      "source": [
        "<a href=\"https://colab.research.google.com/github/deniztahmouresi/interviewTask/blob/develop/Augmentation.ipynb\" target=\"_parent\"><img src=\"https://colab.research.google.com/assets/colab-badge.svg\" alt=\"Open In Colab\"/></a>"
      ]
    },
    {
      "cell_type": "code",
      "execution_count": 1,
      "metadata": {
        "colab": {
          "base_uri": "https://localhost:8080/"
        },
        "id": "wp-atSFrdNJJ",
        "outputId": "138451fb-6bdd-443b-da7e-921feee5bfbc"
      },
      "outputs": [
        {
          "output_type": "stream",
          "name": "stdout",
          "text": [
            "Mounted at /content/drive\n"
          ]
        }
      ],
      "source": [
        "from google.colab import drive\n",
        "import numpy as np\n",
        "drive.mount('/content/drive')\n",
        "dataset = np.load('/content/drive/MyDrive/Colab Notebooks/interviewTask/data.npz')\n"
      ]
    },
    {
      "cell_type": "code",
      "source": [
        "x_train = dataset['X_train']\n",
        "y_train = dataset['y_train']\n",
        "x_test = dataset['X_test']\n",
        "y_test = dataset['y_test']"
      ],
      "metadata": {
        "id": "vBUZLrcCdVGH"
      },
      "execution_count": 17,
      "outputs": []
    },
    {
      "cell_type": "code",
      "source": [
        "# Data normalize to the [0, 1] range\n",
        "x_train = x_train.astype(\"float32\") / 255\n",
        "x_test = x_test.astype(\"float32\") / 255\n",
        "# Make sure images have shape (28, 28, 1)\n",
        "x_train = np.expand_dims(x_train, -1)\n",
        "x_test = np.expand_dims(x_test, -1)"
      ],
      "metadata": {
        "id": "Yj3CFPIVdYd8"
      },
      "execution_count": 18,
      "outputs": []
    },
    {
      "cell_type": "code",
      "source": [
        "count = np.zeros((10,), dtype=int)\n",
        "for val in y_train:\n",
        "    val = int(val)\n",
        "    count[val]+=1\n",
        "print(count*100/sum(count))\n",
        "print(count)"
      ],
      "metadata": {
        "colab": {
          "base_uri": "https://localhost:8080/"
        },
        "id": "g9a5WGmiq9zt",
        "outputId": "dfbb2202-f273-4bdd-95cc-efdcf4e48e7a"
      },
      "execution_count": 19,
      "outputs": [
        {
          "output_type": "stream",
          "name": "stdout",
          "text": [
            "[ 8.81923764 20.07742704  8.871352    9.1289458   4.34931507  8.07176891\n",
            "  8.81179273 18.65693865  4.35527099  8.85795116]\n",
            "[ 5923 13484  5958  6131  2921  5421  5918 12530  2925  5949]\n"
          ]
        }
      ]
    },
    {
      "cell_type": "code",
      "source": [
        "from tensorflow.keras.preprocessing.image import ImageDataGenerator\n",
        "\n",
        "# define data preparation\n",
        "datagen = ImageDataGenerator(rotation_range = 20)\n",
        "# configure batch size and retrieve one batch of images from specific classes\n",
        "classes = [0, 2, 3, 4, 5, 6, 8, 9]\n",
        "i=0\n",
        "x_train_new = np.ndarray(shape=(40296,28, 28, 1), dtype=float)\n",
        "y_train_new = np.ndarray(shape=(40296,), dtype=int)\n",
        "for X_batch, y_batch in datagen.flow(x_train, y_train, batch_size=1, shuffle=True):\n",
        "    if(y_batch[0] in classes):\n",
        "      x_train_new[i] = X_batch\n",
        "      y_train_new[i] = y_batch\n",
        "      i += 1\n",
        "      if i > 40295:\n",
        "        break\n",
        "    else:\n",
        "      continue\n",
        "print(x_train_new.max())\n",
        "print(x_train_new.min())\n",
        "print(x_train_new.shape)\n",
        "print(y_train_new.shape)"
      ],
      "metadata": {
        "colab": {
          "base_uri": "https://localhost:8080/"
        },
        "id": "Ndf0AVc_z33c",
        "outputId": "5efeef61-08f8-44f5-ffae-c4a4deff8dda"
      },
      "execution_count": 20,
      "outputs": [
        {
          "output_type": "stream",
          "name": "stdout",
          "text": [
            "1.0\n",
            "0.0\n",
            "(40296, 28, 28, 1)\n",
            "(40296,)\n"
          ]
        }
      ]
    },
    {
      "cell_type": "code",
      "source": [
        "# configure batch size and retrieve one batch of images from specific classes\n",
        "classes = [4, 8]\n",
        "i=0\n",
        "x_train_new2 = np.ndarray(shape=(10000,28, 28, 1), dtype=float)\n",
        "y_train_new2 = np.ndarray(shape=(10000,), dtype=int)\n",
        "for X_batch, y_batch in datagen.flow(x_train, y_train, batch_size=1, shuffle=True):\n",
        "    if(y_batch[0] in classes):\n",
        "      x_train_new2[i] = X_batch\n",
        "      y_train_new2[i] = y_batch\n",
        "      i += 1\n",
        "      if i > 9999:\n",
        "        break\n",
        "    else:\n",
        "      continue\n",
        "print(x_train_new2.max())\n",
        "print(x_train_new2.min())\n",
        "print(x_train_new2.shape)\n",
        "print(y_train_new2.shape)"
      ],
      "metadata": {
        "colab": {
          "base_uri": "https://localhost:8080/"
        },
        "id": "c2Eh8RQRKTpX",
        "outputId": "c7d91a53-b9f4-4f6b-f48c-ebf1997e710b"
      },
      "execution_count": 21,
      "outputs": [
        {
          "output_type": "stream",
          "name": "stdout",
          "text": [
            "1.0\n",
            "0.0\n",
            "(10000, 28, 28, 1)\n",
            "(10000,)\n"
          ]
        }
      ]
    },
    {
      "cell_type": "code",
      "source": [
        "x_train = np.concatenate((x_train, x_train_new), axis=0)\n",
        "x_train = np.concatenate((x_train, x_train_new2), axis=0)\n",
        "y_train = np.concatenate((y_train, y_train_new), axis=0)\n",
        "y_train = np.concatenate((y_train, y_train_new2), axis=0)\n",
        "\n",
        "print(x_train.shape)\n",
        "print(y_train.shape)"
      ],
      "metadata": {
        "colab": {
          "base_uri": "https://localhost:8080/"
        },
        "id": "Gq3XiZdk_ktr",
        "outputId": "18260019-42a6-4df1-9400-bf86eb22e8dc"
      },
      "execution_count": 22,
      "outputs": [
        {
          "output_type": "stream",
          "name": "stdout",
          "text": [
            "(117456, 28, 28, 1)\n",
            "(117456,)\n"
          ]
        }
      ]
    },
    {
      "cell_type": "code",
      "source": [
        "count = np.zeros((10,), dtype=int)\n",
        "for val in y_train:\n",
        "    val = int(val)\n",
        "    count[val]+=1\n",
        "print(count*100/sum(count))\n",
        "print(count)"
      ],
      "metadata": {
        "colab": {
          "base_uri": "https://localhost:8080/"
        },
        "id": "RhvuigalI75A",
        "outputId": "3d940943-3616-4650-d463-3283f3674af9"
      },
      "execution_count": 23,
      "outputs": [
        {
          "output_type": "stream",
          "name": "stdout",
          "text": [
            "[ 9.9833129  11.48004359 10.04631522 10.33493393  9.14980929  9.1395927\n",
            "  9.95606866 10.66782455  9.22473096 10.01736821]\n",
            "[11726 13484 11800 12139 10747 10735 11694 12530 10835 11766]\n"
          ]
        }
      ]
    },
    {
      "cell_type": "code",
      "source": [
        "from tensorflow import keras\n",
        "from tensorflow.keras import layers\n",
        "\n",
        "# convert class vectors to binary class matrices\n",
        "y_train = keras.utils.to_categorical(y_train, 10)\n",
        "y_test = keras.utils.to_categorical(y_test, 10)"
      ],
      "metadata": {
        "id": "Zvd8aZcLdfwL"
      },
      "execution_count": 24,
      "outputs": []
    },
    {
      "cell_type": "code",
      "source": [
        "model = keras.Sequential(\n",
        "    [\n",
        "        keras.Input(shape=(28, 28, 1)),\n",
        "        layers.Conv2D(32, kernel_size=(3, 3), activation=\"relu\", kernel_initializer='he_uniform'),\n",
        "        layers.MaxPooling2D(pool_size=(2, 2)),\n",
        "        layers.Conv2D(64, kernel_size=(3, 3), activation=\"relu\", kernel_initializer='he_uniform'),\n",
        "        layers.MaxPooling2D(pool_size=(2, 2)),\n",
        "        layers.Flatten(),\n",
        "        layers.Dense(100, activation=\"relu\", kernel_initializer='he_uniform'),\n",
        "        layers.Dense(10, activation=\"softmax\"),\n",
        "    ]\n",
        ")\n",
        "\n",
        "model.summary()"
      ],
      "metadata": {
        "colab": {
          "base_uri": "https://localhost:8080/"
        },
        "id": "EHdCTudSBQ4M",
        "outputId": "cddbe00a-fb4f-4e8b-ce29-3b34a3caa291"
      },
      "execution_count": 25,
      "outputs": [
        {
          "output_type": "stream",
          "name": "stdout",
          "text": [
            "Model: \"sequential_1\"\n",
            "_________________________________________________________________\n",
            " Layer (type)                Output Shape              Param #   \n",
            "=================================================================\n",
            " conv2d_2 (Conv2D)           (None, 26, 26, 32)        320       \n",
            "                                                                 \n",
            " max_pooling2d_2 (MaxPoolin  (None, 13, 13, 32)        0         \n",
            " g2D)                                                            \n",
            "                                                                 \n",
            " conv2d_3 (Conv2D)           (None, 11, 11, 64)        18496     \n",
            "                                                                 \n",
            " max_pooling2d_3 (MaxPoolin  (None, 5, 5, 64)          0         \n",
            " g2D)                                                            \n",
            "                                                                 \n",
            " flatten_1 (Flatten)         (None, 1600)              0         \n",
            "                                                                 \n",
            " dense_2 (Dense)             (None, 100)               160100    \n",
            "                                                                 \n",
            " dense_3 (Dense)             (None, 10)                1010      \n",
            "                                                                 \n",
            "=================================================================\n",
            "Total params: 179926 (702.84 KB)\n",
            "Trainable params: 179926 (702.84 KB)\n",
            "Non-trainable params: 0 (0.00 Byte)\n",
            "_________________________________________________________________\n"
          ]
        }
      ]
    },
    {
      "cell_type": "code",
      "source": [
        "from tensorflow.keras.optimizers import SGD\n",
        "\n",
        "batch_size = 128\n",
        "epochs = 15\n",
        "opt = SGD(learning_rate=0.01, momentum=0.9)\n",
        "model.compile(loss=\"categorical_crossentropy\", optimizer=opt, metrics=[\"categorical_accuracy\"])\n",
        "model.fit(x_train, y_train, batch_size=batch_size, epochs=epochs, validation_split=0.1)"
      ],
      "metadata": {
        "colab": {
          "base_uri": "https://localhost:8080/"
        },
        "id": "KK4JKrjmBV_h",
        "outputId": "c41c7402-f686-4272-8e22-b910e9a64385"
      },
      "execution_count": 26,
      "outputs": [
        {
          "output_type": "stream",
          "name": "stdout",
          "text": [
            "Epoch 1/15\n",
            "826/826 [==============================] - 52s 62ms/step - loss: 0.1168 - categorical_accuracy: 0.9645 - val_loss: 0.0600 - val_categorical_accuracy: 0.9806\n",
            "Epoch 2/15\n",
            "826/826 [==============================] - 50s 60ms/step - loss: 0.0294 - categorical_accuracy: 0.9910 - val_loss: 0.0646 - val_categorical_accuracy: 0.9797\n",
            "Epoch 3/15\n",
            "826/826 [==============================] - 50s 60ms/step - loss: 0.0199 - categorical_accuracy: 0.9940 - val_loss: 0.0384 - val_categorical_accuracy: 0.9869\n",
            "Epoch 4/15\n",
            "826/826 [==============================] - 52s 63ms/step - loss: 0.0149 - categorical_accuracy: 0.9956 - val_loss: 0.0531 - val_categorical_accuracy: 0.9812\n",
            "Epoch 5/15\n",
            "826/826 [==============================] - 50s 61ms/step - loss: 0.0117 - categorical_accuracy: 0.9964 - val_loss: 0.0287 - val_categorical_accuracy: 0.9896\n",
            "Epoch 6/15\n",
            "826/826 [==============================] - 50s 60ms/step - loss: 0.0098 - categorical_accuracy: 0.9970 - val_loss: 0.0240 - val_categorical_accuracy: 0.9922\n",
            "Epoch 7/15\n",
            "826/826 [==============================] - 50s 61ms/step - loss: 0.0077 - categorical_accuracy: 0.9976 - val_loss: 0.0251 - val_categorical_accuracy: 0.9921\n",
            "Epoch 8/15\n",
            "826/826 [==============================] - 50s 61ms/step - loss: 0.0066 - categorical_accuracy: 0.9978 - val_loss: 0.0138 - val_categorical_accuracy: 0.9955\n",
            "Epoch 9/15\n",
            "826/826 [==============================] - 53s 64ms/step - loss: 0.0055 - categorical_accuracy: 0.9984 - val_loss: 0.0150 - val_categorical_accuracy: 0.9951\n",
            "Epoch 10/15\n",
            "826/826 [==============================] - 52s 62ms/step - loss: 0.0048 - categorical_accuracy: 0.9987 - val_loss: 0.0299 - val_categorical_accuracy: 0.9901\n",
            "Epoch 11/15\n",
            "826/826 [==============================] - 50s 61ms/step - loss: 0.0037 - categorical_accuracy: 0.9990 - val_loss: 0.0163 - val_categorical_accuracy: 0.9944\n",
            "Epoch 12/15\n",
            "826/826 [==============================] - 50s 60ms/step - loss: 0.0036 - categorical_accuracy: 0.9988 - val_loss: 0.0147 - val_categorical_accuracy: 0.9950\n",
            "Epoch 13/15\n",
            "826/826 [==============================] - 48s 58ms/step - loss: 0.0026 - categorical_accuracy: 0.9993 - val_loss: 0.0221 - val_categorical_accuracy: 0.9925\n",
            "Epoch 14/15\n",
            "826/826 [==============================] - 51s 61ms/step - loss: 0.0023 - categorical_accuracy: 0.9994 - val_loss: 0.0109 - val_categorical_accuracy: 0.9962\n",
            "Epoch 15/15\n",
            "826/826 [==============================] - 50s 60ms/step - loss: 0.0020 - categorical_accuracy: 0.9995 - val_loss: 0.0112 - val_categorical_accuracy: 0.9963\n"
          ]
        },
        {
          "output_type": "execute_result",
          "data": {
            "text/plain": [
              "<keras.src.callbacks.History at 0x7e3f850b82e0>"
            ]
          },
          "metadata": {},
          "execution_count": 26
        }
      ]
    },
    {
      "cell_type": "code",
      "source": [
        "from sklearn.metrics import classification_report\n",
        "\n",
        "#Define metrics report function\n",
        "def evaluate_model(x_test, y_test, title):\n",
        "  y_pred = model.predict(x_test, verbose=0)\n",
        "  score = model.evaluate(x_test, y_test, verbose=0)\n",
        "  print(\"Report metrics for CNN \" + title)\n",
        "  print(\"Test loss:\", score[0])\n",
        "  print()\n",
        "  print(classification_report(np.argmax(y_test, axis=1), np.argmax(y_pred, axis=1)))\n",
        "evaluate_model(x_test, y_test, \"with rotation augmentation\")"
      ],
      "metadata": {
        "colab": {
          "base_uri": "https://localhost:8080/"
        },
        "id": "zIKKVqsSrlmN",
        "outputId": "58f38874-f357-4a5e-f438-314f0a237bd7"
      },
      "execution_count": 27,
      "outputs": [
        {
          "output_type": "stream",
          "name": "stdout",
          "text": [
            "Report metrics for CNN with rotation augmentation\n",
            "Test loss: 0.723524272441864\n",
            "\n",
            "              precision    recall  f1-score   support\n",
            "\n",
            "           0       0.93      1.00      0.96       980\n",
            "           1       0.89      1.00      0.94      1135\n",
            "           2       0.99      0.57      0.73      1032\n",
            "           3       0.73      1.00      0.85      1010\n",
            "           4       0.75      0.99      0.86       982\n",
            "           5       1.00      0.53      0.69       892\n",
            "           6       1.00      0.88      0.94       958\n",
            "           7       0.83      1.00      0.90      1028\n",
            "           8       0.68      0.99      0.81       974\n",
            "           9       1.00      0.43      0.60      1009\n",
            "\n",
            "    accuracy                           0.84     10000\n",
            "   macro avg       0.88      0.84      0.83     10000\n",
            "weighted avg       0.88      0.84      0.83     10000\n",
            "\n"
          ]
        }
      ]
    },
    {
      "cell_type": "code",
      "source": [
        "from scipy import signal\n",
        "\n",
        "x_train = dataset['X_train']\n",
        "y_train = dataset['y_train']\n",
        "x_test = dataset['X_test']\n",
        "y_test = dataset['y_test']\n",
        "\n",
        "X_train = np.ndarray(shape=(len(x_train),28, 28) , dtype=int)\n",
        "i = 0\n",
        "for img in x_train:\n",
        "  X_train[i] = signal.medfilt2d(img)\n",
        "  i += 1\n",
        "X_test = np.ndarray(shape=(len(x_test),28, 28) , dtype=int)\n",
        "i = 0\n",
        "for img in x_test:\n",
        "  X_test[i] = signal.medfilt2d(img)\n",
        "  i += 1"
      ],
      "metadata": {
        "id": "KRFYYrTxqOsP"
      },
      "execution_count": 36,
      "outputs": []
    },
    {
      "cell_type": "code",
      "source": [
        "# Data normalize to the [0, 1] range\n",
        "X_train = X_train.astype(\"float32\") / 255\n",
        "X_test = X_test.astype(\"float32\") / 255\n",
        "# Make sure images have shape (28, 28, 1)\n",
        "X_train = np.expand_dims(X_train, -1)\n",
        "X_test = np.expand_dims(X_test, -1)"
      ],
      "metadata": {
        "id": "fx3MknQbr8Yg"
      },
      "execution_count": 37,
      "outputs": []
    },
    {
      "cell_type": "code",
      "source": [
        "# configure batch size and retrieve one batch of images from specific classes\n",
        "classes = [0, 2, 3, 4, 5, 6, 8, 9]\n",
        "i=0\n",
        "x_train_new = np.ndarray(shape=(40296,28, 28, 1), dtype=float)\n",
        "y_train_new = np.ndarray(shape=(40296,), dtype=int)\n",
        "for X_batch, y_batch in datagen.flow(X_train, y_train, batch_size=1, shuffle=True):\n",
        "    if(y_batch[0] in classes):\n",
        "      x_train_new[i] = X_batch\n",
        "      y_train_new[i] = y_batch\n",
        "      i += 1\n",
        "      if i > 40295:\n",
        "        break\n",
        "    else:\n",
        "      continue\n",
        "print(x_train_new.max())\n",
        "print(x_train_new.min())\n",
        "print(x_train_new.shape)\n",
        "print(y_train_new.shape)\n",
        "\n",
        "# configure batch size and retrieve one batch of images from specific classes\n",
        "classes = [4, 8]\n",
        "i=0\n",
        "x_train_new2 = np.ndarray(shape=(10000,28, 28, 1), dtype=float)\n",
        "y_train_new2 = np.ndarray(shape=(10000,), dtype=int)\n",
        "for X_batch, y_batch in datagen.flow(X_train, y_train, batch_size=1, shuffle=True):\n",
        "    if(y_batch[0] in classes):\n",
        "      x_train_new2[i] = X_batch\n",
        "      y_train_new2[i] = y_batch\n",
        "      i += 1\n",
        "      if i > 9999:\n",
        "        break\n",
        "    else:\n",
        "      continue\n",
        "print(x_train_new2.max())\n",
        "print(x_train_new2.min())\n",
        "print(x_train_new2.shape)\n",
        "print(y_train_new2.shape)\n",
        "\n",
        "X_train = np.concatenate((X_train, x_train_new), axis=0)\n",
        "X_train = np.concatenate((X_train, x_train_new2), axis=0)\n",
        "y_train = np.concatenate((y_train, y_train_new), axis=0)\n",
        "y_train = np.concatenate((y_train, y_train_new2), axis=0)\n",
        "\n",
        "print(X_train.shape)\n",
        "print(y_train.shape)"
      ],
      "metadata": {
        "colab": {
          "base_uri": "https://localhost:8080/"
        },
        "id": "G_y2I9tNsljY",
        "outputId": "7e87db9c-425f-4ab1-d904-c0bb922c058f"
      },
      "execution_count": 38,
      "outputs": [
        {
          "output_type": "stream",
          "name": "stdout",
          "text": [
            "1.0\n",
            "0.0\n",
            "(40296, 28, 28, 1)\n",
            "(40296,)\n",
            "1.0\n",
            "0.0\n",
            "(10000, 28, 28, 1)\n",
            "(10000,)\n",
            "(117456, 28, 28, 1)\n",
            "(117456,)\n"
          ]
        }
      ]
    },
    {
      "cell_type": "code",
      "source": [
        "# convert class vectors to binary class matrices\n",
        "y_train = keras.utils.to_categorical(y_train, 10)\n",
        "y_test = keras.utils.to_categorical(y_test, 10)\n",
        "model.fit(X_train, y_train, batch_size=batch_size, epochs=epochs, validation_split=0.1)"
      ],
      "metadata": {
        "colab": {
          "base_uri": "https://localhost:8080/"
        },
        "id": "BQeKvfGms7BK",
        "outputId": "a2dbc836-1d40-4213-9dae-3470323cc2e6"
      },
      "execution_count": 39,
      "outputs": [
        {
          "output_type": "stream",
          "name": "stdout",
          "text": [
            "Epoch 1/15\n",
            "826/826 [==============================] - 48s 58ms/step - loss: 0.0433 - categorical_accuracy: 0.9855 - val_loss: 0.1099 - val_categorical_accuracy: 0.9609\n",
            "Epoch 2/15\n",
            "826/826 [==============================] - 48s 58ms/step - loss: 0.0298 - categorical_accuracy: 0.9904 - val_loss: 0.0862 - val_categorical_accuracy: 0.9691\n",
            "Epoch 3/15\n",
            "826/826 [==============================] - 46s 55ms/step - loss: 0.0230 - categorical_accuracy: 0.9925 - val_loss: 0.0296 - val_categorical_accuracy: 0.9905\n",
            "Epoch 4/15\n",
            "826/826 [==============================] - 47s 57ms/step - loss: 0.0192 - categorical_accuracy: 0.9937 - val_loss: 0.0214 - val_categorical_accuracy: 0.9934\n",
            "Epoch 5/15\n",
            "826/826 [==============================] - 46s 55ms/step - loss: 0.0157 - categorical_accuracy: 0.9950 - val_loss: 0.0539 - val_categorical_accuracy: 0.9811\n",
            "Epoch 6/15\n",
            "826/826 [==============================] - 47s 57ms/step - loss: 0.0135 - categorical_accuracy: 0.9955 - val_loss: 0.0352 - val_categorical_accuracy: 0.9884\n",
            "Epoch 7/15\n",
            "826/826 [==============================] - 48s 58ms/step - loss: 0.0113 - categorical_accuracy: 0.9964 - val_loss: 0.0233 - val_categorical_accuracy: 0.9922\n",
            "Epoch 8/15\n",
            "826/826 [==============================] - 48s 58ms/step - loss: 0.0101 - categorical_accuracy: 0.9969 - val_loss: 0.0193 - val_categorical_accuracy: 0.9940\n",
            "Epoch 9/15\n",
            "826/826 [==============================] - 48s 58ms/step - loss: 0.0085 - categorical_accuracy: 0.9973 - val_loss: 0.0363 - val_categorical_accuracy: 0.9876\n",
            "Epoch 10/15\n",
            "826/826 [==============================] - 46s 56ms/step - loss: 0.0068 - categorical_accuracy: 0.9981 - val_loss: 0.0414 - val_categorical_accuracy: 0.9856\n",
            "Epoch 11/15\n",
            "826/826 [==============================] - 47s 57ms/step - loss: 0.0063 - categorical_accuracy: 0.9980 - val_loss: 0.0205 - val_categorical_accuracy: 0.9939\n",
            "Epoch 12/15\n",
            "826/826 [==============================] - 48s 59ms/step - loss: 0.0052 - categorical_accuracy: 0.9984 - val_loss: 0.0260 - val_categorical_accuracy: 0.9916\n",
            "Epoch 13/15\n",
            "826/826 [==============================] - 47s 57ms/step - loss: 0.0044 - categorical_accuracy: 0.9989 - val_loss: 0.0428 - val_categorical_accuracy: 0.9858\n",
            "Epoch 14/15\n",
            "826/826 [==============================] - 47s 57ms/step - loss: 0.0033 - categorical_accuracy: 0.9993 - val_loss: 0.0218 - val_categorical_accuracy: 0.9934\n",
            "Epoch 15/15\n",
            "826/826 [==============================] - 48s 58ms/step - loss: 0.0031 - categorical_accuracy: 0.9993 - val_loss: 0.0216 - val_categorical_accuracy: 0.9935\n"
          ]
        },
        {
          "output_type": "execute_result",
          "data": {
            "text/plain": [
              "<keras.src.callbacks.History at 0x7e3f0ea3d330>"
            ]
          },
          "metadata": {},
          "execution_count": 39
        }
      ]
    },
    {
      "cell_type": "code",
      "source": [
        "evaluate_model(x_test, y_test, \"with rotation augmentation and noise filtering\")"
      ],
      "metadata": {
        "colab": {
          "base_uri": "https://localhost:8080/"
        },
        "id": "sa6ijOaftWNN",
        "outputId": "5bda3602-5ad3-4a80-aff0-d0a20b99e5f7"
      },
      "execution_count": 40,
      "outputs": [
        {
          "output_type": "stream",
          "name": "stdout",
          "text": [
            "Report metrics for CNN with rotation augmentation and noise filtering\n",
            "Test loss: 43.556400299072266\n",
            "\n",
            "              precision    recall  f1-score   support\n",
            "\n",
            "           0       0.98      1.00      0.99       980\n",
            "           1       0.99      0.99      0.99      1135\n",
            "           2       0.98      1.00      0.99      1032\n",
            "           3       0.85      1.00      0.92      1010\n",
            "           4       0.97      0.99      0.98       982\n",
            "           5       0.99      0.73      0.84       892\n",
            "           6       1.00      0.92      0.96       958\n",
            "           7       0.99      0.99      0.99      1028\n",
            "           8       0.94      0.98      0.96       974\n",
            "           9       0.95      0.99      0.97      1009\n",
            "\n",
            "    accuracy                           0.96     10000\n",
            "   macro avg       0.97      0.96      0.96     10000\n",
            "weighted avg       0.96      0.96      0.96     10000\n",
            "\n"
          ]
        }
      ]
    }
  ]
}