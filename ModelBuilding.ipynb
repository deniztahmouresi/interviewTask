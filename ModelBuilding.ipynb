{
  "nbformat": 4,
  "nbformat_minor": 0,
  "metadata": {
    "colab": {
      "provenance": [],
      "authorship_tag": "ABX9TyNE9rJbkC/V+8QdSfnvVyI7",
      "include_colab_link": true
    },
    "kernelspec": {
      "name": "python3",
      "display_name": "Python 3"
    },
    "language_info": {
      "name": "python"
    }
  },
  "cells": [
    {
      "cell_type": "markdown",
      "metadata": {
        "id": "view-in-github",
        "colab_type": "text"
      },
      "source": [
        "<a href=\"https://colab.research.google.com/github/deniztahmouresi/interviewTask/blob/develop/ModelBuilding.ipynb\" target=\"_parent\"><img src=\"https://colab.research.google.com/assets/colab-badge.svg\" alt=\"Open In Colab\"/></a>"
      ]
    },
    {
      "cell_type": "code",
      "execution_count": 7,
      "metadata": {
        "colab": {
          "base_uri": "https://localhost:8080/"
        },
        "id": "95zj5HRE5by6",
        "outputId": "f68273e4-9a3d-4c7f-999f-6961bfcd93a5"
      },
      "outputs": [
        {
          "output_type": "stream",
          "name": "stdout",
          "text": [
            "Drive already mounted at /content/drive; to attempt to forcibly remount, call drive.mount(\"/content/drive\", force_remount=True).\n"
          ]
        }
      ],
      "source": [
        "from google.colab import drive\n",
        "import numpy as np\n",
        "drive.mount('/content/drive')\n",
        "dataset = np.load('/content/drive/MyDrive/Colab Notebooks/Project/data.npz')\n"
      ]
    },
    {
      "cell_type": "code",
      "source": [
        "x_train = dataset['X_train']\n",
        "y_train = dataset['y_train']\n",
        "x_test = dataset['X_test']\n",
        "y_test = dataset['y_test']\n",
        "\n",
        "# Data normalize to the [0, 1] range\n",
        "x_train = x_train.astype(\"float32\") / 255\n",
        "x_test = x_test.astype(\"float32\") / 255"
      ],
      "metadata": {
        "id": "ZUFoTTgF-Ifj"
      },
      "execution_count": 22,
      "outputs": []
    },
    {
      "cell_type": "code",
      "source": [
        "# Make sure images have shape (28, 28, 1)\n",
        "x_train = np.expand_dims(x_train, -1)\n",
        "x_test = np.expand_dims(x_test, -1)"
      ],
      "metadata": {
        "id": "hxU2dZ6N_36G"
      },
      "execution_count": 23,
      "outputs": []
    },
    {
      "cell_type": "code",
      "source": [
        "print(\"x_train shape:\", x_train.shape)\n",
        "print(x_train.shape[0], \"train samples\")\n",
        "print(x_test.shape[0], \"test samples\")\n",
        "print(x_train[100])"
      ],
      "metadata": {
        "id": "T7JJznMq_7cw"
      },
      "execution_count": null,
      "outputs": []
    },
    {
      "cell_type": "code",
      "source": [
        "from tensorflow import keras\n",
        "from tensorflow.keras import layers\n",
        "\n",
        "# convert class vectors to binary class matrices\n",
        "y_train = keras.utils.to_categorical(y_train, 10)\n",
        "y_test = keras.utils.to_categorical(y_test, 10)\n",
        "\n",
        "print(y_train.shape)"
      ],
      "metadata": {
        "colab": {
          "base_uri": "https://localhost:8080/"
        },
        "id": "wHQTbSa9AvBn",
        "outputId": "d6b7e08f-b1b0-4ff3-af2a-0b34229ab4d5"
      },
      "execution_count": 25,
      "outputs": [
        {
          "output_type": "stream",
          "name": "stdout",
          "text": [
            "(67160, 10)\n"
          ]
        }
      ]
    },
    {
      "cell_type": "code",
      "source": [
        "print(y_train[100])"
      ],
      "metadata": {
        "colab": {
          "base_uri": "https://localhost:8080/"
        },
        "id": "3EsfHPmdBxg2",
        "outputId": "14abcb78-dd70-4942-8344-f48888431055"
      },
      "execution_count": 27,
      "outputs": [
        {
          "output_type": "stream",
          "name": "stdout",
          "text": [
            "[0. 0. 0. 0. 0. 1. 0. 0. 0. 0.]\n"
          ]
        }
      ]
    },
    {
      "cell_type": "code",
      "source": [
        "model = keras.Sequential(\n",
        "    [\n",
        "        keras.Input(shape=(28, 28, 1)),\n",
        "        layers.Conv2D(32, kernel_size=(3, 3), activation=\"relu\"),\n",
        "        layers.MaxPooling2D(pool_size=(2, 2)),\n",
        "        layers.Conv2D(64, kernel_size=(3, 3), activation=\"relu\"),\n",
        "        layers.MaxPooling2D(pool_size=(2, 2)),\n",
        "        layers.Flatten(),\n",
        "        layers.Dropout(0.5),\n",
        "        layers.Dense(10, activation=\"softmax\"),\n",
        "    ]\n",
        ")\n",
        "\n",
        "model.summary()"
      ],
      "metadata": {
        "id": "rWX6m8_BCT64"
      },
      "execution_count": null,
      "outputs": []
    },
    {
      "cell_type": "code",
      "source": [
        "batch_size = 128\n",
        "epochs = 15\n",
        "\n",
        "model.compile(loss=\"categorical_crossentropy\", optimizer=\"adam\", metrics=[\"accuracy\"])\n",
        "\n",
        "model.fit(x_train, y_train, batch_size=batch_size, epochs=epochs, validation_split=0.1)"
      ],
      "metadata": {
        "id": "XGjc01YNCkv7",
        "outputId": "68fbfe41-d017-4c02-dc9a-a1925c93b140",
        "colab": {
          "base_uri": "https://localhost:8080/"
        }
      },
      "execution_count": 29,
      "outputs": [
        {
          "output_type": "stream",
          "name": "stdout",
          "text": [
            "Epoch 1/15\n",
            "473/473 [==============================] - 58s 119ms/step - loss: 0.2466 - accuracy: 0.9268 - val_loss: 0.0449 - val_accuracy: 0.9872\n",
            "Epoch 2/15\n",
            "473/473 [==============================] - 48s 100ms/step - loss: 0.0505 - accuracy: 0.9845 - val_loss: 0.0285 - val_accuracy: 0.9909\n",
            "Epoch 3/15\n",
            "473/473 [==============================] - 49s 103ms/step - loss: 0.0348 - accuracy: 0.9891 - val_loss: 0.0212 - val_accuracy: 0.9942\n",
            "Epoch 4/15\n",
            "473/473 [==============================] - 50s 106ms/step - loss: 0.0303 - accuracy: 0.9909 - val_loss: 0.0222 - val_accuracy: 0.9926\n",
            "Epoch 5/15\n",
            "473/473 [==============================] - 49s 104ms/step - loss: 0.0264 - accuracy: 0.9924 - val_loss: 0.0167 - val_accuracy: 0.9946\n",
            "Epoch 6/15\n",
            "473/473 [==============================] - 47s 100ms/step - loss: 0.0231 - accuracy: 0.9928 - val_loss: 0.0186 - val_accuracy: 0.9939\n",
            "Epoch 7/15\n",
            "473/473 [==============================] - 47s 100ms/step - loss: 0.0209 - accuracy: 0.9934 - val_loss: 0.0164 - val_accuracy: 0.9949\n",
            "Epoch 8/15\n",
            "473/473 [==============================] - 48s 101ms/step - loss: 0.0181 - accuracy: 0.9937 - val_loss: 0.0149 - val_accuracy: 0.9952\n",
            "Epoch 9/15\n",
            "473/473 [==============================] - 49s 104ms/step - loss: 0.0169 - accuracy: 0.9946 - val_loss: 0.0142 - val_accuracy: 0.9955\n",
            "Epoch 10/15\n",
            "473/473 [==============================] - 47s 100ms/step - loss: 0.0162 - accuracy: 0.9951 - val_loss: 0.0129 - val_accuracy: 0.9957\n",
            "Epoch 11/15\n",
            "473/473 [==============================] - 47s 100ms/step - loss: 0.0138 - accuracy: 0.9955 - val_loss: 0.0125 - val_accuracy: 0.9955\n",
            "Epoch 12/15\n",
            "473/473 [==============================] - 47s 100ms/step - loss: 0.0143 - accuracy: 0.9955 - val_loss: 0.0118 - val_accuracy: 0.9963\n",
            "Epoch 13/15\n",
            "473/473 [==============================] - 49s 103ms/step - loss: 0.0126 - accuracy: 0.9960 - val_loss: 0.0126 - val_accuracy: 0.9961\n",
            "Epoch 14/15\n",
            "473/473 [==============================] - 49s 104ms/step - loss: 0.0128 - accuracy: 0.9956 - val_loss: 0.0126 - val_accuracy: 0.9954\n",
            "Epoch 15/15\n",
            "473/473 [==============================] - 47s 100ms/step - loss: 0.0117 - accuracy: 0.9960 - val_loss: 0.0116 - val_accuracy: 0.9957\n"
          ]
        },
        {
          "output_type": "execute_result",
          "data": {
            "text/plain": [
              "<keras.src.callbacks.History at 0x7b232f78bee0>"
            ]
          },
          "metadata": {},
          "execution_count": 29
        }
      ]
    },
    {
      "cell_type": "code",
      "source": [
        "score = model.evaluate(x_test, y_test, verbose=0)\n",
        "print(\"Test loss:\", score[0])\n",
        "print(\"Test accuracy:\", score[1])"
      ],
      "metadata": {
        "id": "VKmxdHXoCza2"
      },
      "execution_count": null,
      "outputs": []
    }
  ]
}