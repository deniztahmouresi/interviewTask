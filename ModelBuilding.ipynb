{
  "nbformat": 4,
  "nbformat_minor": 0,
  "metadata": {
    "colab": {
      "provenance": [],
      "toc_visible": true,
      "authorship_tag": "ABX9TyOOBxbz5UMPeStQpjE8Z0QB",
      "include_colab_link": true
    },
    "kernelspec": {
      "name": "python3",
      "display_name": "Python 3"
    },
    "language_info": {
      "name": "python"
    }
  },
  "cells": [
    {
      "cell_type": "markdown",
      "metadata": {
        "id": "view-in-github",
        "colab_type": "text"
      },
      "source": [
        "<a href=\"https://colab.research.google.com/github/deniztahmouresi/interviewTask/blob/develop/ModelBuilding.ipynb\" target=\"_parent\"><img src=\"https://colab.research.google.com/assets/colab-badge.svg\" alt=\"Open In Colab\"/></a>"
      ]
    },
    {
      "cell_type": "code",
      "execution_count": 2,
      "metadata": {
        "colab": {
          "base_uri": "https://localhost:8080/"
        },
        "id": "95zj5HRE5by6",
        "outputId": "6c08e108-980f-4c41-989a-017e9af102b2"
      },
      "outputs": [
        {
          "output_type": "stream",
          "name": "stdout",
          "text": [
            "Drive already mounted at /content/drive; to attempt to forcibly remount, call drive.mount(\"/content/drive\", force_remount=True).\n"
          ]
        }
      ],
      "source": [
        "from google.colab import drive\n",
        "import numpy as np\n",
        "drive.mount('/content/drive')\n",
        "dataset = np.load('/content/drive/MyDrive/Colab Notebooks/interviewTask/data.npz')\n"
      ]
    },
    {
      "cell_type": "code",
      "source": [
        "x_train = dataset['X_train']\n",
        "y_train = dataset['y_train']\n",
        "x_test = dataset['X_test']\n",
        "y_test = dataset['y_test']\n",
        "\n",
        "# Data normalize to the [0, 1] range\n",
        "x_train = x_train.astype(\"float32\") / 255\n",
        "x_test = x_test.astype(\"float32\") / 255"
      ],
      "metadata": {
        "id": "ZUFoTTgF-Ifj"
      },
      "execution_count": null,
      "outputs": []
    },
    {
      "cell_type": "code",
      "source": [
        "# Make sure images have shape (28, 28, 1)\n",
        "x_train = np.expand_dims(x_train, -1)\n",
        "x_test = np.expand_dims(x_test, -1)"
      ],
      "metadata": {
        "id": "hxU2dZ6N_36G"
      },
      "execution_count": null,
      "outputs": []
    },
    {
      "cell_type": "code",
      "source": [
        "print(\"x_train shape:\", x_train.shape)\n",
        "print(x_train.shape[0], \"train samples\")\n",
        "print(x_test.shape[0], \"test samples\")\n",
        "print(x_train[100])"
      ],
      "metadata": {
        "id": "T7JJznMq_7cw"
      },
      "execution_count": null,
      "outputs": []
    },
    {
      "cell_type": "code",
      "source": [
        "from tensorflow import keras\n",
        "from tensorflow.keras import layers\n",
        "\n",
        "# convert class vectors to binary class matrices\n",
        "y_train = keras.utils.to_categorical(y_train, 10)\n",
        "y_test = keras.utils.to_categorical(y_test, 10)\n",
        "\n",
        "print(y_train.shape)"
      ],
      "metadata": {
        "colab": {
          "base_uri": "https://localhost:8080/"
        },
        "id": "wHQTbSa9AvBn",
        "outputId": "d6b7e08f-b1b0-4ff3-af2a-0b34229ab4d5"
      },
      "execution_count": null,
      "outputs": [
        {
          "output_type": "stream",
          "name": "stdout",
          "text": [
            "(67160, 10)\n"
          ]
        }
      ]
    },
    {
      "cell_type": "code",
      "source": [
        "print(y_train[100])"
      ],
      "metadata": {
        "colab": {
          "base_uri": "https://localhost:8080/"
        },
        "id": "3EsfHPmdBxg2",
        "outputId": "14abcb78-dd70-4942-8344-f48888431055"
      },
      "execution_count": null,
      "outputs": [
        {
          "output_type": "stream",
          "name": "stdout",
          "text": [
            "[0. 0. 0. 0. 0. 1. 0. 0. 0. 0.]\n"
          ]
        }
      ]
    },
    {
      "cell_type": "code",
      "source": [
        "model = keras.Sequential(\n",
        "    [\n",
        "        keras.Input(shape=(28, 28, 1)),\n",
        "        layers.Conv2D(32, kernel_size=(3, 3), activation=\"relu\"),\n",
        "        layers.MaxPooling2D(pool_size=(2, 2)),\n",
        "        layers.Conv2D(64, kernel_size=(3, 3), activation=\"relu\"),\n",
        "        layers.MaxPooling2D(pool_size=(2, 2)),\n",
        "        layers.Flatten(),\n",
        "        layers.Dropout(0.5),\n",
        "        layers.Dense(10, activation=\"softmax\"),\n",
        "    ]\n",
        ")\n",
        "\n",
        "model.summary()"
      ],
      "metadata": {
        "id": "rWX6m8_BCT64"
      },
      "execution_count": null,
      "outputs": []
    },
    {
      "cell_type": "code",
      "source": [
        "batch_size = 128\n",
        "epochs = 5\n",
        "\n",
        "model.compile(loss=\"categorical_crossentropy\", optimizer=\"adam\", metrics=[\"accuracy\"])\n",
        "\n",
        "model.fit(x_train, y_train, batch_size=batch_size, epochs=epochs, validation_split=0.1)\n",
        "score = model.evaluate(x_test, y_test, verbose=0)\n",
        "print(\"Test loss:\", score[0])\n",
        "print(\"Test accuracy:\", score[1])"
      ],
      "metadata": {
        "colab": {
          "base_uri": "https://localhost:8080/"
        },
        "id": "XGjc01YNCkv7",
        "outputId": "aa64ec5e-387c-4ca1-ef02-f65a536c079a"
      },
      "execution_count": null,
      "outputs": [
        {
          "output_type": "stream",
          "name": "stdout",
          "text": [
            "Epoch 1/5\n",
            "473/473 [==============================] - 50s 103ms/step - loss: 0.0114 - accuracy: 0.9962 - val_loss: 0.0142 - val_accuracy: 0.9961\n",
            "Epoch 2/5\n",
            "473/473 [==============================] - 47s 100ms/step - loss: 0.0104 - accuracy: 0.9965 - val_loss: 0.0119 - val_accuracy: 0.9966\n",
            "Epoch 3/5\n",
            "473/473 [==============================] - 49s 104ms/step - loss: 0.0098 - accuracy: 0.9969 - val_loss: 0.0117 - val_accuracy: 0.9970\n",
            "Epoch 4/5\n",
            "473/473 [==============================] - 47s 99ms/step - loss: 0.0098 - accuracy: 0.9970 - val_loss: 0.0122 - val_accuracy: 0.9960\n",
            "Epoch 5/5\n",
            "473/473 [==============================] - 47s 98ms/step - loss: 0.0087 - accuracy: 0.9971 - val_loss: 0.0119 - val_accuracy: 0.9963\n",
            "Test loss: 1.3427083492279053\n",
            "Test accuracy: 0.7218000292778015\n"
          ]
        }
      ]
    }
  ]
}